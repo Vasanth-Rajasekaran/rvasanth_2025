{
 "cells": [
  {
   "cell_type": "markdown",
   "id": "4c66f90f",
   "metadata": {},
   "source": [
    "---\n",
    "layout: post\n",
    "title: Homework \n",
    "categories: ccc\n",
    "permalink: /hmwrk\n",
    "toc: True\n",
    "comments: True\n",
    "---"
   ]
  },
  {
   "cell_type": "markdown",
   "id": "4090a283",
   "metadata": {},
   "source": [
    "Question Recap: Which is LEAST likely to improve the model's accuracy?\n",
    "\n",
    "Answer: C – Removing as many details from the model as possible so that calculations can be performed quickly."
   ]
  },
  {
   "cell_type": "code",
   "execution_count": 5,
   "id": "77024ad8",
   "metadata": {},
   "outputs": [
    {
     "name": "stdout",
     "output_type": "stream",
     "text": [
      "Dice roll: 6\n"
     ]
    }
   ],
   "source": [
    "import random\n",
    "\n",
    "def roll_dice():\n",
    "    \"\"\"Simulates a 6-sided dice roll.\"\"\"\n",
    "    return random.randint(1, 6)\n",
    "\n",
    "# Simulate and print a dice roll\n",
    "print(\"Dice roll:\", roll_dice())\n"
   ]
  },
  {
   "cell_type": "code",
   "execution_count": 4,
   "id": "d2689770",
   "metadata": {},
   "outputs": [
    {
     "name": "stdout",
     "output_type": "stream",
     "text": [
      "Color: Red\n",
      "Color: Red\n",
      "Color: Red\n",
      "Color: Red\n",
      "Color: Blue\n",
      "Color: Blue\n",
      "Color: Red\n",
      "Color: Yellow\n",
      "Color: Purple\n",
      "Color: Yellow\n"
     ]
    }
   ],
   "source": [
    "import random\n",
    "\n",
    "def biased_color():\n",
    "    \"\"\"Generates biased color with:\n",
    "    - Red (50%)\n",
    "    - Blue (30%)\n",
    "    - Other colors (20% combined)\n",
    "    \"\"\"\n",
    "    colors = [\"Red\", \"Blue\", \"Green\", \"Yellow\", \"Purple\"]\n",
    "    probabilities = [0.5, 0.3, 0.066, 0.067, 0.067]  # Total = ~1.0\n",
    "\n",
    "    return random.choices(colors, probabilities)[0]\n",
    "\n",
    "# Print 10 biased random colors\n",
    "for _ in range(10):\n",
    "    print(\"Color:\", biased_color())\n"
   ]
  },
  {
   "cell_type": "code",
   "execution_count": 1,
   "id": "c6d0a260",
   "metadata": {},
   "outputs": [
    {
     "name": "stdout",
     "output_type": "stream",
     "text": [
      "Round 1: Player 1 = 1 heads, Player 2 = 1 heads\n",
      "Round 2: Player 1 = 2 heads, Player 2 = 2 heads\n",
      "Round 3: Player 1 = 2 heads, Player 2 = 2 heads\n",
      "Round 4: Player 1 = 2 heads, Player 2 = 3 heads\n",
      "Player 2 wins in 4 rounds!\n"
     ]
    }
   ],
   "source": [
    "import random\n",
    "\n",
    "def coin_flip_game():\n",
    "    player1_heads = 0\n",
    "    player2_heads = 0\n",
    "    rounds = 0\n",
    "\n",
    "    while player1_heads < 3 and player2_heads < 3:\n",
    "        rounds += 1\n",
    "        # Player 1 flip\n",
    "        if random.choice([\"heads\", \"tails\"]) == \"heads\":\n",
    "            player1_heads += 1\n",
    "\n",
    "        # Player 2 flip\n",
    "        if random.choice([\"heads\", \"tails\"]) == \"heads\":\n",
    "            player2_heads += 1\n",
    "\n",
    "        print(f\"Round {rounds}: Player 1 = {player1_heads} heads, Player 2 = {player2_heads} heads\")\n",
    "\n",
    "    # Declare the winner\n",
    "    if player1_heads == 3:\n",
    "        print(f\"Player 1 wins in {rounds} rounds!\")\n",
    "    else:\n",
    "        print(f\"Player 2 wins in {rounds} rounds!\")\n",
    "\n",
    "coin_flip_game()\n"
   ]
  }
 ],
 "metadata": {
  "kernelspec": {
   "display_name": "Python 3",
   "language": "python",
   "name": "python3"
  },
  "language_info": {
   "codemirror_mode": {
    "name": "ipython",
    "version": 3
   },
   "file_extension": ".py",
   "mimetype": "text/x-python",
   "name": "python",
   "nbconvert_exporter": "python",
   "pygments_lexer": "ipython3",
   "version": "3.10.12"
  }
 },
 "nbformat": 4,
 "nbformat_minor": 5
}
