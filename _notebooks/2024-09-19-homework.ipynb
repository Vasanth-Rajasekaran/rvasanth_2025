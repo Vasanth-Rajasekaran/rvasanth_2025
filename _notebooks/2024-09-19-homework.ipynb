{
 "cells": [
  {
   "cell_type": "markdown",
   "metadata": {},
   "source": [
    "---\n",
    "layout: post\n",
    "title: Lesson 3.1 Homework\n",
    "description: Test your knowledge on variables\n",
    "categories: ccc\n",
    "permalink: /three\n",
    "toc: True\n",
    "comments: True\n",
    "---"
   ]
  },
  {
   "cell_type": "code",
   "execution_count": 1,
   "metadata": {},
   "outputs": [
    {
     "name": "stdout",
     "output_type": "stream",
     "text": [
      "21\n",
      "3.14159\n",
      "True\n",
      "Hello, World!\n",
      "I am learning Python Programming\n",
      "You have 10 items in your cart.\n"
     ]
    }
   ],
   "source": [
    "# Homework Problems on Variables\n",
    "\n",
    "# ---\n",
    "# Question 1: Variable Naming (SnakeCase, PascalCase, CamelCase)\n",
    "\n",
    "# You need to assign a value to a variable using the proper naming conventions.\n",
    "\n",
    "# Part A: Create a variable called my_favorite_color (using SnakeCase) and set its value to \"blue\".\n",
    "my_favorite_color = \"blue\"\n",
    "\n",
    "# Part B: Now, create a variable called MyFavoriteColor (using PascalCase) and set its value to \"green\".\n",
    "MyFavoriteColor = \"green\"\n",
    "\n",
    "# Part C: Explain why the PascalCase variable name should not be used in Python for regular variables.\n",
    "# PascalCase is reserved for class names in Python, not regular variables, which should use SnakeCase.\n",
    "\n",
    "# ---\n",
    "\n",
    "# Question 2: Types of Variables\n",
    "\n",
    "# Part A: Assign the following values to variables:\n",
    "\n",
    "# 1. An integer my_age with the value 21.\n",
    "my_age = 21\n",
    "\n",
    "# 2. A float pi_value with the value 3.14159.\n",
    "pi_value = 3.14159\n",
    "\n",
    "# 3. A boolean is_student with the value True.\n",
    "is_student = True\n",
    "\n",
    "# 4. A string greeting_message with the value \"Hello, World!\".\n",
    "greeting_message = \"Hello, World!\"\n",
    "\n",
    "# Part B: Print each of these variables to see the output.\n",
    "print(my_age)\n",
    "print(pi_value)\n",
    "print(is_student)\n",
    "print(greeting_message)\n",
    "\n",
    "# ---\n",
    "\n",
    "# Question 3: How Variables Work\n",
    "\n",
    "# Part A: Assign the string \"Python Programming\" to a variable called course_name.\n",
    "course_name = \"Python Programming\"\n",
    "\n",
    "# Then, print the following sentence using this variable:\n",
    "print(\"I am learning \" + course_name)\n",
    "\n",
    "# Part B: Assign the integer 10 to a variable called num_items.\n",
    "num_items = 10\n",
    "\n",
    "# Then, print a sentence using this variable:\n",
    "# Remember to use str() to convert the integer to a string when printing.\n",
    "print(\"You have \" + str(num_items) + \" items in your cart.\")\n",
    "\n",
    "# Part C: Why do we need to use the str() function when printing the num_items variable in Part B?\n",
    "# Explanation: We need to use str() because Python cannot concatenate strings with integers directly.\n",
    "# The str() function converts the integer into a string, allowing us to print it alongside other strings."
   ]
  }
 ],
 "metadata": {
  "kernelspec": {
   "display_name": "Python 3",
   "language": "python",
   "name": "python3"
  },
  "language_info": {
   "codemirror_mode": {
    "name": "ipython",
    "version": 3
   },
   "file_extension": ".py",
   "mimetype": "text/x-python",
   "name": "python",
   "nbconvert_exporter": "python",
   "pygments_lexer": "ipython3",
   "version": "3.10.12"
  }
 },
 "nbformat": 4,
 "nbformat_minor": 2
}
