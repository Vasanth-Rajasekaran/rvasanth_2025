{
 "cells": [
  {
   "cell_type": "markdown",
   "metadata": {},
   "source": [
    "---\n",
    "layout: post\n",
    "title: Results\n",
    "description: How I fixed certain errors\n",
    "categories: ccc\n",
    "permalink: /results\n",
    "toc: True\n",
    "comments: True\n",
    "---"
   ]
  },
  {
   "cell_type": "markdown",
   "metadata": {},
   "source": [
    "## Results\n",
    "    Due to a misunderstanding in Week 1, I accidently made a copy of portfolio_2025 instead of student_2025, which lead to certain features not working in the markdown files that I added. But once I understood this mistake, I started from scratch and made a copy of student_2025. But during week 3, I noticed that there were some duplicate files, and with the advice of some of my peers I decided to start from scratch again. Bringing me to the current website I am on, that is currently working smmothly."
   ]
  },
  {
   "cell_type": "markdown",
   "metadata": {
    "vscode": {
     "languageId": "plaintext"
    }
   },
   "source": []
  }
 ],
 "metadata": {
  "language_info": {
   "name": "python"
  }
 },
 "nbformat": 4,
 "nbformat_minor": 2
}
