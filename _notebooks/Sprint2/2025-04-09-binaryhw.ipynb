{
 "cells": [
  {
   "cell_type": "markdown",
   "id": "61f70f80",
   "metadata": {},
   "source": [
    "---\n",
    "layout: post\n",
    "title: Results\n",
    "description: How I fixed certain errors\n",
    "categories: ccc\n",
    "permalink: /bshomework\n",
    "toc: True\n",
    "comments: True\n",
    "---"
   ]
  },
  {
   "cell_type": "code",
   "execution_count": 4,
   "id": "43f96931",
   "metadata": {},
   "outputs": [
    {
     "name": "stdout",
     "output_type": "stream",
     "text": [
      "5\n",
      "(1, 3)\n",
      "9\n"
     ]
    }
   ],
   "source": [
    "def search_rotated_array(arr, target):\n",
    "    left, right = 0, len(arr) - 1\n",
    "    \n",
    "    while left <= right:\n",
    "        mid = (left + right) // 2\n",
    "        \n",
    "        if arr[mid] == target:\n",
    "            return mid\n",
    "        \n",
    "        if arr[left] <= arr[mid]:  # Left half is sorted\n",
    "            if arr[left] <= target < arr[mid]:\n",
    "                right = mid - 1\n",
    "            else:\n",
    "                left = mid + 1\n",
    "        else:  # Right half is sorted\n",
    "            if arr[mid] < target <= arr[right]:\n",
    "                left = mid + 1\n",
    "            else:\n",
    "                right = mid - 1\n",
    "    \n",
    "    return -1\n",
    "\n",
    "def find_first_and_last(arr, target):\n",
    "    def binary_search_first():\n",
    "        left, right = 0, len(arr) - 1\n",
    "        first = -1\n",
    "        while left <= right:\n",
    "            mid = (left + right) // 2\n",
    "            if arr[mid] == target:\n",
    "                first = mid\n",
    "                right = mid - 1  # Search left part\n",
    "            elif arr[mid] < target:\n",
    "                left = mid + 1\n",
    "            else:\n",
    "                right = mid - 1\n",
    "        return first\n",
    "    \n",
    "    def binary_search_last():\n",
    "        left, right = 0, len(arr) - 1\n",
    "        last = -1\n",
    "        while left <= right:\n",
    "            mid = (left + right) // 2\n",
    "            if arr[mid] == target:\n",
    "                last = mid\n",
    "                left = mid + 1  # Search right part\n",
    "            elif arr[mid] < target:\n",
    "                left = mid + 1\n",
    "            else:\n",
    "                right = mid - 1\n",
    "        return last\n",
    "    \n",
    "    first = binary_search_first()\n",
    "    last = binary_search_last()\n",
    "    return (first, last)\n",
    "\n",
    "def find_smallest_greater_or_equal(arr, target):\n",
    "    left, right = 0, len(arr) - 1\n",
    "    result = -1\n",
    "    \n",
    "    while left <= right:\n",
    "        mid = (left + right) // 2\n",
    "        if arr[mid] >= target:\n",
    "            result = arr[mid]\n",
    "            right = mid - 1  # Search left part\n",
    "        else:\n",
    "            left = mid + 1\n",
    "    \n",
    "    return result\n",
    "\n",
    "# Example test cases\n",
    "print(search_rotated_array([4, 5, 6, 7, 0, 1, 2], 1))  # Output: 5\n",
    "print(find_first_and_last([1, 2, 2, 2, 3, 4, 5], 2))  # Output: (1, 3)\n",
    "print(find_smallest_greater_or_equal([1, 3, 5, 7, 9, 11], 8))  # Output: 9\n"
   ]
  }
 ],
 "metadata": {
  "kernelspec": {
   "display_name": "Python 3",
   "language": "python",
   "name": "python3"
  },
  "language_info": {
   "codemirror_mode": {
    "name": "ipython",
    "version": 3
   },
   "file_extension": ".py",
   "mimetype": "text/x-python",
   "name": "python",
   "nbconvert_exporter": "python",
   "pygments_lexer": "ipython3",
   "version": "3.10.12"
  }
 },
 "nbformat": 4,
 "nbformat_minor": 5
}
