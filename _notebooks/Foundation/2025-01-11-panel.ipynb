{
 "cells": [
  {
   "cell_type": "markdown",
   "metadata": {},
   "source": [
    "---\n",
    "layout: post\n",
    "title: Calculator Tool Explanation\n",
    "description: Code behind the Calculator Tool\n",
    "categories: ccc\n",
    "permalink: /panel\n",
    "toc: True\n",
    "comments: True\n",
    "---"
   ]
  },
  {
   "cell_type": "markdown",
   "metadata": {},
   "source": [
    "## Goals:\n",
    "- Get a research mentor by March\n",
    "- Get an A in AP CSP\n",
    "\n",
    "### Photos:\n",
    "<div style=\"text-align: center;\">\n",
    "  <img src=\"{{site.baseurl}}/images/Panel1.jpg\" class=\"center\">\n",
    "</div>\n",
    "\n",
    "<div style=\"text-align: center;\">\n",
    "  <img src=\"{{site.baseurl}}/images/Panel2.jpg\" class=\"center\">\n",
    "</div>\n",
    "\n",
    "### Panel Inspired Action Plan 🎯:\n",
    "\n",
    "#### Research \n",
    "- Cold email 30 people\n",
    "- Email Components:\n",
    "    - Introducing myself\n",
    "    - Tnterest in collaborating\n",
    "    - My experience\n",
    "    - Discuss how their work \"caters to your interests and focus on niche aspects of their work\" Show genuine passion (David)\n",
    "    - Present Idea, start with small ideas and gradually build upon them to develop larger, impactful projects(Aadit)\n",
    "- Being proactive is the best way to create oppurtunities (Nathan)\n",
    "- Show willingness to spend time learning about their topic (Nathan)\n",
    "\n",
    "#### AP CSP \n",
    "- Get feedback after each grade and record:\n",
    "    - Things to continue\n",
    "    - Things to fix\n",
    "- Instead of Stand Up's, implement GitBooks to keep track of group information (David)\n",
    "- Consistenly Self Reflect\n",
    "- Attend office hours more consistently, be proactive and ask for help\n",
    "- Allocate time every week to revise past concepts\n",
    "- Be more prepared for live reviews. Why?\n",
    "    - To be more concise and confident\n",
    "- Familiarize with Vocab\n",
    "\n",
    "## Personal Takeaways\n",
    "\n",
    "- Speaking concisely can get your message across more effectively than talking at length.\n",
    "- Regular stand-ups can clarify your thought process for yourself and others, helping to identify mistakes.\n",
    "- Research how each university caters to your major and focus on niche aspects of their programs when applying; show genuine passion for those details.\n",
    "- Pursue associate degrees and dual enrollment to earn college credit and get ahead academically.\n",
    "- Cold emailing can open up unexpected opportunities.\n",
    "- Use tools like GitBook to track group information and improve collaboration in projects.\n",
    "- Communication is as important as technical skills, like writing code.\n",
    "- Being proactive is the best way to create opportunities.\n",
    "- Start with small ideas and gradually build upon them to develop larger, impactful projects.\n",
    "- Always be willing to adapt and learn new skills to stay relevant in your field.\n",
    "- Consistent self-reflection helps in recognizing progress and areas for improvement.\n",
    "\n"
   ]
  }
 ],
 "metadata": {
  "language_info": {
   "name": "python"
  }
 },
 "nbformat": 4,
 "nbformat_minor": 2
}
