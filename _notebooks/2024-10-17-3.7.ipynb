{
 "cells": [
  {
   "cell_type": "markdown",
   "metadata": {
    "vscode": {
     "languageId": "plaintext"
    }
   },
   "source": [
    "---\n",
    "layout: post\n",
    "title: 3.7 Homework \n",
    "categories: ccc\n",
    "permalink: /3.7/homework\n",
    "toc: True\n",
    "comments: True\n",
    "---"
   ]
  },
  {
   "cell_type": "code",
   "execution_count": null,
   "metadata": {},
   "outputs": [],
   "source": [
    "# Factorial Function (Using Recursion)\n",
    "def factorial(n):\n",
    "    # Handle invalid input\n",
    "    if not isinstance(n, int) or n < 0:\n",
    "        return \"Error: Factorial is only defined for non-negative integers.\"\n",
    "    # Base cases: 0! and 1! both return 1\n",
    "    elif n in (0, 1):\n",
    "        return 1\n",
    "    # Recursive case: n! = n * (n - 1)!\n",
    "    else:\n",
    "        return n * factorial(n - 1)\n",
    "\n",
    "# Calculate factorial of a number between 9 and 13\n",
    "number = 11\n",
    "result = factorial(number)\n",
    "\n",
    "# Display the outcome with a message\n",
    "if isinstance(result, int):\n",
    "    print(f\"The factorial of {number} is {result}.\")\n",
    "else:\n",
    "    print(result)\n",
    "\n",
    "# Iterating Over a List (Numbers)\n",
    "numbers = [1, 2, 3, 4, 5]\n",
    "for num in numbers:\n",
    "    print(num)\n",
    "\n",
    "# Iterating Through a List (Colors) with a Message\n",
    "colors = [\"red\", \"blue\", \"green\", \"yellow\"]\n",
    "for color in colors:\n",
    "    print(color)\n",
    "\n",
    "# Using `continue` and `break` in a Loop\n",
    "numbers = [1, 2, 3, 4, 5]\n",
    "for num in numbers:\n",
    "    if num == 3:\n",
    "        continue  # Skip when the number is 3\n",
    "    elif num == 5:\n",
    "        break  # Exit the loop when 5 is encountered\n",
    "    print(num)\n"
   ]
  }
 ],
 "metadata": {
  "language_info": {
   "name": "python"
  }
 },
 "nbformat": 4,
 "nbformat_minor": 2
}
