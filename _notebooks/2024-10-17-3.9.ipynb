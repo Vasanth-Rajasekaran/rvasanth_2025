{
 "cells": [
  {
   "cell_type": "markdown",
   "metadata": {
    "vscode": {
     "languageId": "raw"
    }
   },
   "source": [
    "---\n",
    "layout: post\n",
    "title: 3.9 Homework \n",
    "categories: ccc\n",
    "permalink: /3.9/homework\n",
    "toc: True\n",
    "comments: True\n",
    "---"
   ]
  },
  {
   "cell_type": "code",
   "execution_count": null,
   "metadata": {
    "vscode": {
     "languageId": "plaintext"
    }
   },
   "outputs": [],
   "source": [
    "# Factorial Function with Recursion\n",
    "def factorial(n):\n",
    "    \"\"\"Compute factorial of a non-negative integer.\"\"\"\n",
    "    if not isinstance(n, int) or n < 0:  # Input validation\n",
    "        return \"Error: Only non-negative integers are allowed.\"\n",
    "    elif n in (0, 1):  # Base cases\n",
    "        return 1\n",
    "    else:\n",
    "        return n * factorial(n - 1)  # Recursive call\n",
    "\n",
    "# Example Usage\n",
    "number = 11\n",
    "result = factorial(number)\n",
    "\n",
    "if isinstance(result, int):\n",
    "    print(f\"The factorial of {number} is {result}.\")\n",
    "else:\n",
    "    print(result)\n",
    "\n",
    "# Loop through a list of numbers\n",
    "numbers = [1, 2, 3, 4, 5]\n",
    "for num in numbers:\n",
    "    print(num)\n",
    "\n",
    "# Iterate through a list of colors\n",
    "colors = [\"red\", \"blue\", \"green\", \"yellow\"]\n",
    "for color in colors:\n",
    "    print(color)\n",
    "\n",
    "# Control loop behavior: continue and break\n",
    "for num in numbers:\n",
    "    if num == 3:\n",
    "        continue  # Skip number 3\n",
    "    elif num == 5:\n",
    "        break  # Stop the loop at 5\n",
    "    print(num)\n"
   ]
  }
 ],
 "metadata": {
  "language_info": {
   "name": "python"
  }
 },
 "nbformat": 4,
 "nbformat_minor": 2
}
