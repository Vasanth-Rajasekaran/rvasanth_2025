{
 "cells": [
  {
   "cell_type": "markdown",
   "metadata": {
    "vscode": {
     "languageId": "plaintext"
    }
   },
   "source": [
    "---\n",
    "layout: post\n",
    "title: 3.2 Homework \n",
    "categories: ccc\n",
    "permalink: /3.8/homework\n",
    "toc: True\n",
    "comments: True\n",
    "---"
   ]
  },
  {
   "cell_type": "code",
   "execution_count": 2,
   "metadata": {},
   "outputs": [
    {
     "name": "stdout",
     "output_type": "stream",
     "text": [
      "The factorial of 11 is 39916800.\n",
      "1\n",
      "2\n",
      "3\n",
      "4\n",
      "5\n",
      "red\n",
      "blue\n",
      "green\n",
      "yellow\n",
      "1\n",
      "2\n",
      "4\n"
     ]
    }
   ],
   "source": [
    "# Recursion Hack - Factorial Function\n",
    "def factorial(n):\n",
    "    \"\"\"Calculates the factorial of a non-negative integer n.\"\"\"\n",
    "    if not isinstance(n, int) or n < 0:  # Handle invalid input\n",
    "        return \"Error: Factorial is only defined for non-negative integers.\"\n",
    "    elif n == 0 or n == 1:  # Base cases\n",
    "        return 1\n",
    "    else:\n",
    "        return n * factorial(n - 1)  # Recursive call\n",
    "\n",
    "# Example Usage\n",
    "number = 11\n",
    "result = factorial(number)\n",
    "\n",
    "# Display the result with a custom message\n",
    "if isinstance(result, int):\n",
    "    print(f\"The factorial of {number} is {result}.\")\n",
    "else:\n",
    "    print(result)\n",
    "\n",
    "# Iterating Over a List Hack\n",
    "numbers = [1, 2, 3, 4, 5]\n",
    "for number in numbers:  # Print each number in the list\n",
    "    print(number)\n",
    "\n",
    "# Iterating Over a List with Colors Hack\n",
    "colors = [\"red\", \"blue\", \"green\", \"yellow\"]\n",
    "for color in colors:  # Print each color in the list\n",
    "    print(color)\n",
    "\n",
    "# Breaking Loops Hack\n",
    "numbers = [1, 2, 3, 4, 5]\n",
    "for number in numbers:\n",
    "    if number == 3:\n",
    "        continue  # Skip the number 3\n",
    "    elif number == 5:\n",
    "        break  # Stop the loop when 5 is encountered\n",
    "    print(number)\n"
   ]
  }
 ],
 "metadata": {
  "kernelspec": {
   "display_name": "Python 3",
   "language": "python",
   "name": "python3"
  },
  "language_info": {
   "codemirror_mode": {
    "name": "ipython",
    "version": 3
   },
   "file_extension": ".py",
   "mimetype": "text/x-python",
   "name": "python",
   "nbconvert_exporter": "python",
   "pygments_lexer": "ipython3",
   "version": "3.10.12"
  }
 },
 "nbformat": 4,
 "nbformat_minor": 2
}
