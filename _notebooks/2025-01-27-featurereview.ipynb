{
 "cells": [
  {
   "cell_type": "markdown",
   "metadata": {},
   "source": [
    "---\n",
    "layout: post\n",
    "title: 1/28/25 Live Review\n",
    "description: Explaining Skill API Feature\n",
    "categories: ccc\n",
    "permalink: /feature\n",
    "toc: True\n",
    "comments: True\n",
    "---"
   ]
  },
  {
   "cell_type": "markdown",
   "metadata": {},
   "source": [
    "# CRUD Integration Checkpoint (01/27/2025)\n",
    "\n",
    "## Executive Summary:\n",
    "Developed a system for users to track and manage their skills. \n",
    "\n",
    "## Team Purpose:\n",
    "Our project provides a social platform for users to track and improve their skills, manage profiles, and track progress. \n",
    "\n",
    "## Individual Features:\n",
    "For this review, I focused on the skills feature, where users can input, track, update, and delete their skills. This feature is essential for users to document and modify their skill sets easily, with functionality including creating new skills, updating skill details, and deleting skills they no longer wish to track. The frontend allows users to interact with this system through forms and buttons for the CRUD operations, while the backend stores and processes all data for persistence.\n",
    "\n",
    "## Input/Output requests:\n",
    "The Skills API supports the basic CRUD operations:  \n",
    "- **GET:** Retrieves a list of all skills or a specific skill by ID. This request is handled when the page loads or when a user requests a specific skill.\n",
    "- **POST:** Allows users to add new skills to the database. This is done through the form on the frontend, where the user submits the skill name, skill level, and user ID.\n",
    "- **PUT:** Enables users to update existing skills. If a user wishes to update their skill name or skill level, they can modify it using the “Update” button, which sends a PUT request to the API.\n",
    "- **DELETE:** Removes a specific skill from the database. The user can delete a skill by clicking the “Delete” button next to the corresponding entry.\n",
    "\n",
    "Requests are handled by Flask_SQLAlchemy, which uses an ORM to manage the interaction with the database, allowing easy retrieval and manipulation of skill data.\n",
    "\n",
    "## Requests & DOM:\n",
    "The fetch requests interact with the backend API using the `POST`, `PUT`, `GET`, and `DELETE` methods. After fetching data from the API, the frontend dynamically populates a table to display the skill data. This table allows the user to view and interact with each entry, using buttons for adding, updating, and deleting skills.\n",
    "\n",
    "The database operations are managed by SQLAlchemy in the backend, which abstracts the SQL queries and simplifies working with the data. The logic for the CRUD functions is handled in the `SkillAPI` class, where each method (POST, GET, PUT, DELETE) processes the request, interacts with the database, and sends back a response to the frontend.\n",
    "\n",
    "## Algorithmic Request:\n",
    "The `_CRUD` class within the API handles the main operations: POST, PUT, and DELETE requests. When the frontend triggers one of these actions (e.g., clicking the “Add Skill” button or updating a skill), the corresponding method in the class is executed. Each method takes the necessary input data, processes it, and calls the appropriate function to interact with the database.\n",
    "\n",
    "For instance, in the `delete` method, when a user clicks the delete button, the method obtains the skill ID, searches for it in the database, and deletes the entry. This ensures that the skill is completely removed from the system. The response is returned to the frontend, confirming the action with either a success or error message.\n",
    "\n",
    "## Call to Algorithm Request:\n",
    "The backend logic is triggered by frontend events such as form submissions and button clicks. For example, when the “Add Skill” button is clicked, the form data is sent as a POST request to the API. The request body contains the skill details (name, level, user ID), and the backend creates the new entry in the database.\n",
    "\n",
    "Similarly, when a user clicks the “Update” or “Delete” button for a specific skill, the frontend sends the corresponding PUT or DELETE request to the API. The backend processes these requests and updates the database accordingly. After each operation, a GET request is automatically triggered to refresh the frontend and display the latest data.\n",
    "\n",
    "For all actions (POST, PUT, DELETE), error handling is implemented in both frontend and backend. In case of an issue, an appropriate message is displayed to the user, and the operation is canceled if necessary.\n"
   ]
  }
 ],
 "metadata": {
  "kernelspec": {
   "display_name": "Python 3",
   "language": "python",
   "name": "python3"
  },
  "language_info": {
   "name": "python",
   "version": "3.10.12"
  }
 },
 "nbformat": 4,
 "nbformat_minor": 2
}
