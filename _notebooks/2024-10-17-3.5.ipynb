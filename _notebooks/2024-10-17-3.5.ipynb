{
 "cells": [
  {
   "cell_type": "markdown",
   "metadata": {},
   "source": [
    "---\n",
    "layout: post\n",
    "title: 3.5 Homework \n",
    "categories: ccc\n",
    "permalink: /3.5/homework\n",
    "toc: True\n",
    "comments: True\n",
    "---"
   ]
  },
  {
   "cell_type": "code",
   "execution_count": 4,
   "metadata": {},
   "outputs": [
    {
     "name": "stdout",
     "output_type": "stream",
     "text": [
      "True\n",
      "True\n",
      "False\n",
      "False\n",
      "True\n",
      "False\n"
     ]
    }
   ],
   "source": [
    "# Hack 1 (Python) - Determine Whether to Go Outside\n",
    "def should_go_outside(temperature, is_raining):\n",
    "    \"\"\"Determines if it's suitable to go outside based on temperature and rain.\"\"\"\n",
    "    if temperature < 100 and is_raining:\n",
    "        return True\n",
    "    elif temperature > 32 and not is_raining:\n",
    "        return True\n",
    "    else:\n",
    "        return False\n",
    "\n",
    "# Example Usage\n",
    "print(should_go_outside(85, True))\n",
    "print(should_go_outside(50, False))\n",
    "print(should_go_outside(100, True))\n",
    "print(should_go_outside(30, False))\n",
    "\n",
    "# Hack 2 (Python) - Simplified Conditions for Staying Inside\n",
    "is_raining = True  # Define if it is raining\n",
    "is_cold = False    # Define if it is cold\n",
    "\n",
    "# Condition 1: Stay inside if it isn't raining or it isn't cold\n",
    "stay_inside = not is_raining or not is_cold\n",
    "print(stay_inside)  # Example Output: True\n",
    "\n",
    "# Condition 2: Stay inside only if both rain and cold are absent\n",
    "stay_inside = not is_raining and not is_cold\n",
    "print(stay_inside)  # Example Output: False\n"
   ]
  },
  {
   "cell_type": "code",
   "execution_count": 5,
   "metadata": {
    "vscode": {
     "languageId": "javascript"
    }
   },
   "outputs": [
    {
     "ename": "SyntaxError",
     "evalue": "invalid syntax (3583815770.py, line 1)",
     "output_type": "error",
     "traceback": [
      "\u001b[0;36m  Cell \u001b[0;32mIn[5], line 1\u001b[0;36m\u001b[0m\n\u001b[0;31m    // Hack 1 (JavaScript) - Determine Whether to Go Outside\u001b[0m\n\u001b[0m    ^\u001b[0m\n\u001b[0;31mSyntaxError\u001b[0m\u001b[0;31m:\u001b[0m invalid syntax\n"
     ]
    }
   ],
   "source": [
    "// Hack 1 (JavaScript) - Determine Whether to Go Outside\n",
    "function shouldGoOutside(temperature, isRaining) {\n",
    "    // Determines if going outside is appropriate based on the weather\n",
    "    if (temperature < 100 && isRaining) {\n",
    "        return true;\n",
    "    } else if (temperature > 32 && !isRaining) {\n",
    "        return true;\n",
    "    } else {\n",
    "        return false;\n",
    "    }\n",
    "}\n",
    "\n",
    "// Example Usage\n",
    "console.log(shouldGoOutside(85, true));\n",
    "console.log(shouldGoOutside(50, false));\n",
    "console.log(shouldGoOutside(100, true));\n",
    "console.log(shouldGoOutside(30, false));\n",
    "\n",
    "// Hack 2 (JavaScript) - Simplified Conditions for Staying Inside\n",
    "// Condition 1: Stay inside if it's not raining or it's not cold\n",
    "let stayInside = !isRaining || !isCold;\n",
    "\n",
    "// Condition 2: Stay inside only if both rain and cold are absent\n",
    "stayInside = !isRaining && !isCold;\n"
   ]
  }
 ],
 "metadata": {
  "kernelspec": {
   "display_name": "Python 3",
   "language": "python",
   "name": "python3"
  },
  "language_info": {
   "codemirror_mode": {
    "name": "ipython",
    "version": 3
   },
   "file_extension": ".py",
   "mimetype": "text/x-python",
   "name": "python",
   "nbconvert_exporter": "python",
   "pygments_lexer": "ipython3",
   "version": "3.10.12"
  }
 },
 "nbformat": 4,
 "nbformat_minor": 2
}
