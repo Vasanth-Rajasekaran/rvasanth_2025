{
 "cells": [
  {
   "cell_type": "markdown",
   "metadata": {
    "vscode": {
     "languageId": "raw"
    }
   },
   "source": [
    "---\n",
    "layout: post\n",
    "title: 3.3 Homework \n",
    "categories: ccc\n",
    "permalink: /3.3/homework\n",
    "toc: True\n",
    "comments: True\n",
    "---"
   ]
  },
  {
   "cell_type": "markdown",
   "metadata": {
    "vscode": {
     "languageId": "plaintext"
    }
   },
   "source": [
    "## Python Homework Hacks"
   ]
  },
  {
   "cell_type": "code",
   "execution_count": 1,
   "metadata": {},
   "outputs": [
    {
     "name": "stdout",
     "output_type": "stream",
     "text": [
      "9\n",
      "3\n",
      "2.0\n",
      "0\n",
      "216\n",
      "-18\n",
      "27\n",
      "52\n"
     ]
    }
   ],
   "source": [
    "# Hack 1 (Python) - Mathematical Functions\n",
    "def add(a, b):\n",
    "    \"\"\"Returns the sum of a and b.\"\"\"\n",
    "    return a + b\n",
    "\n",
    "def subtract(a, b):\n",
    "    \"\"\"Returns the result of subtracting b from a.\"\"\"\n",
    "    return a - b\n",
    "\n",
    "def divide(a, b):\n",
    "    \"\"\"Returns the result of dividing a by b.\"\"\"\n",
    "    return a / b\n",
    "\n",
    "def modulus(a, b):\n",
    "    \"\"\"Returns the remainder when a is divided by b.\"\"\"\n",
    "    return a % b\n",
    "\n",
    "def power(a, b):\n",
    "    \"\"\"Raises a to the power of b.\"\"\"\n",
    "    return a ** b\n",
    "\n",
    "# Example Usage\n",
    "print(add(6, 3))      # Output: 9\n",
    "print(subtract(6, 3)) # Output: 3\n",
    "print(divide(6, 3))   # Output: 2.0\n",
    "print(modulus(6, 3))  # Output: 0\n",
    "print(power(6, 3))    # Output: 216\n",
    "\n",
    "# Output:\n",
    "# 9\n",
    "# 3\n",
    "# 2.0\n",
    "# 0\n",
    "# 216\n",
    "\n",
    "# Hack 2 (Python) - Function to Transform Input\n",
    "def point_finder(x):\n",
    "    \"\"\"Multiplies x by 5, adds 2, and returns the result.\"\"\"\n",
    "    return (x * 5) + 2\n",
    "\n",
    "# Example Usage\n",
    "print(point_finder(-4))  # Output: -18\n",
    "print(point_finder(5))   # Output: 27\n",
    "print(point_finder(10))  # Output: 52\n",
    "\n",
    "# Output:\n",
    "# -18\n",
    "# 27\n",
    "# 52\n"
   ]
  },
  {
   "cell_type": "markdown",
   "metadata": {},
   "source": [
    "## JavaScript Homework Hacks"
   ]
  },
  {
   "cell_type": "code",
   "execution_count": 4,
   "metadata": {
    "vscode": {
     "languageId": "javascript"
    }
   },
   "outputs": [
    {
     "ename": "SyntaxError",
     "evalue": "invalid syntax (3019757808.py, line 1)",
     "output_type": "error",
     "traceback": [
      "\u001b[0;36m  Cell \u001b[0;32mIn[4], line 1\u001b[0;36m\u001b[0m\n\u001b[0;31m    // Hack 1 (JavaScript) - Mathematical Functions\u001b[0m\n\u001b[0m    ^\u001b[0m\n\u001b[0;31mSyntaxError\u001b[0m\u001b[0;31m:\u001b[0m invalid syntax\n"
     ]
    }
   ],
   "source": [
    "// Hack 1 (JavaScript) - Mathematical Functions\n",
    "function add(a, b) {\n",
    "    return a + b;\n",
    "}\n",
    "\n",
    "function subtract(a, b) {\n",
    "    return a - b;\n",
    "}\n",
    "\n",
    "function divide(a, b) {\n",
    "    return a / b;\n",
    "}\n",
    "\n",
    "function modulus(a, b) {\n",
    "    return a % b;\n",
    "}\n",
    "\n",
    "function power(a, b) {\n",
    "    return a ** b;\n",
    "}\n",
    "\n",
    "// Example Usage\n",
    "console.log(add(2, 5));\n",
    "console.log(subtract(2, 5));\n",
    "console.log(divide(2, 5));\n",
    "console.log(modulus(2, 5));\n",
    "console.log(power(2, 5));\n",
    "\n",
    "// Hack 2 (JavaScript) - Function to Transform Input\n",
    "function point_finder(x) {\n",
    "    return (x * 5) + 2;\n",
    "}\n",
    "\n",
    "// Example Usage\n",
    "console.log(point_finder(-4));\n",
    "console.log(point_finder(5));\n",
    "console.log(point_finder(10));\n"
   ]
  }
 ],
 "metadata": {
  "kernelspec": {
   "display_name": "Python 3",
   "language": "python",
   "name": "python3"
  },
  "language_info": {
   "codemirror_mode": {
    "name": "ipython",
    "version": 3
   },
   "file_extension": ".py",
   "mimetype": "text/x-python",
   "name": "python",
   "nbconvert_exporter": "python",
   "pygments_lexer": "ipython3",
   "version": "3.10.12"
  }
 },
 "nbformat": 4,
 "nbformat_minor": 2
}
