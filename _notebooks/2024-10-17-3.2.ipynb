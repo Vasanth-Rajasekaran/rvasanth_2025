{
 "cells": [
  {
   "cell_type": "markdown",
   "metadata": {},
   "source": [
    "---\n",
    "layout: post\n",
    "title: 3.2 Homework \n",
    "categories: ccc\n",
    "permalink: /3.2/homework\n",
    "toc: True\n",
    "comments: True"
   ]
  },
  {
   "cell_type": "code",
   "execution_count": 1,
   "metadata": {},
   "outputs": [
    {
     "name": "stdout",
     "output_type": "stream",
     "text": [
      "{'fruit': 'apple', 'color': 'red', 'quantity': 5}\n",
      "{'name': 'Alice', 'age': 31}\n",
      "{'name': 'popcorn', 'flavor': 'butter', 'quantity': 15, 'price': 3.5}\n",
      "The sum is: 12\n"
     ]
    }
   ],
   "source": [
    "# Creating a dictionary with at least 3 keys\n",
    "my_dict = dict(fruit=\"apple\", color=\"red\", quantity=5)\n",
    "\n",
    "# Printing the dictionary\n",
    "print(my_dict)\n",
    "\n",
    "# Starting dictionary\n",
    "person = {\"name\": \"Alice\", \"age\": 30}\n",
    "\n",
    "# Updating the age to 31\n",
    "person.update({\"age\": 31})\n",
    "\n",
    "# Printing the updated dictionary\n",
    "print(person)\n",
    "\n",
    "# Step 1: Create a dictionary\n",
    "snack = {\n",
    "    \"name\": \"popcorn\",\n",
    "    \"flavor\": \"butter\",\n",
    "    \"quantity\": 10\n",
    "}\n",
    "\n",
    "# Step 2: Update the 'quantity' item\n",
    "snack[\"quantity\"] += 5\n",
    "\n",
    "# Step 3: Add a new item for 'price'\n",
    "snack.setdefault(\"price\", 3.50)\n",
    "\n",
    "# Print the updated dictionary\n",
    "print(snack)\n",
    "\n",
    "# Function to add two integers\n",
    "def add_two_numbers(a, b):\n",
    "    sum_result = a + b\n",
    "    return sum_result\n",
    "\n",
    "# Define the integers\n",
    "num1, num2 = 5, 7\n",
    "\n",
    "# Call the function and print the result\n",
    "result = add_two_numbers(num1, num2)\n",
    "print(f\"The sum is: {result}\")\n"
   ]
  }
 ],
 "metadata": {
  "kernelspec": {
   "display_name": "Python 3",
   "language": "python",
   "name": "python3"
  },
  "language_info": {
   "codemirror_mode": {
    "name": "ipython",
    "version": 3
   },
   "file_extension": ".py",
   "mimetype": "text/x-python",
   "name": "python",
   "nbconvert_exporter": "python",
   "pygments_lexer": "ipython3",
   "version": "3.10.12"
  }
 },
 "nbformat": 4,
 "nbformat_minor": 2
}
